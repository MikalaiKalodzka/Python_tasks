{
  "nbformat": 4,
  "nbformat_minor": 0,
  "metadata": {
    "colab": {
      "name": "Python_Machine_Lerning_1.0.ipynb",
      "provenance": [],
      "authorship_tag": "ABX9TyN9PLsFu44F4RJp2h4WiC2z",
      "include_colab_link": true
    },
    "kernelspec": {
      "name": "python3",
      "display_name": "Python 3"
    },
    "language_info": {
      "name": "python"
    }
  },
  "cells": [
    {
      "cell_type": "markdown",
      "metadata": {
        "id": "view-in-github",
        "colab_type": "text"
      },
      "source": [
        "<a href=\"https://colab.research.google.com/github/MikalaiKalodzka/Python_tasks/blob/main/Python_Machine_Lerning_1_0.ipynb\" target=\"_parent\"><img src=\"https://colab.research.google.com/assets/colab-badge.svg\" alt=\"Open In Colab\"/></a>"
      ]
    },
    {
      "cell_type": "code",
      "metadata": {
        "colab": {
          "base_uri": "https://localhost:8080/"
        },
        "id": "oyGjXfPCrrsz",
        "outputId": "d7d40a85-c32e-4394-b656-be9983519326"
      },
      "source": [
        "print(\"Hello Machine Learning!\")"
      ],
      "execution_count": 3,
      "outputs": [
        {
          "output_type": "stream",
          "text": [
            "Hello Machine Learning!\n"
          ],
          "name": "stdout"
        }
      ]
    },
    {
      "cell_type": "code",
      "metadata": {
        "id": "8WL7W6QFvZoj"
      },
      "source": [
        "import pandas as pd\n",
        "trips_data = pd.read_excel(\"/content/trips_data.xlsx\")"
      ],
      "execution_count": 6,
      "outputs": []
    },
    {
      "cell_type": "code",
      "metadata": {
        "colab": {
          "base_uri": "https://localhost:8080/",
          "height": 142
        },
        "id": "kmhVf7WFxtBd",
        "outputId": "f8824d1d-bef5-4599-9199-d38b76ce6bfe"
      },
      "source": [
        "trips_data.head(3)"
      ],
      "execution_count": 7,
      "outputs": [
        {
          "output_type": "execute_result",
          "data": {
            "text/html": [
              "<div>\n",
              "<style scoped>\n",
              "    .dataframe tbody tr th:only-of-type {\n",
              "        vertical-align: middle;\n",
              "    }\n",
              "\n",
              "    .dataframe tbody tr th {\n",
              "        vertical-align: top;\n",
              "    }\n",
              "\n",
              "    .dataframe thead th {\n",
              "        text-align: right;\n",
              "    }\n",
              "</style>\n",
              "<table border=\"1\" class=\"dataframe\">\n",
              "  <thead>\n",
              "    <tr style=\"text-align: right;\">\n",
              "      <th></th>\n",
              "      <th>salary</th>\n",
              "      <th>city</th>\n",
              "      <th>age</th>\n",
              "      <th>vacation_preference</th>\n",
              "      <th>transport_preference</th>\n",
              "      <th>family_members</th>\n",
              "      <th>target</th>\n",
              "    </tr>\n",
              "  </thead>\n",
              "  <tbody>\n",
              "    <tr>\n",
              "      <th>0</th>\n",
              "      <td>196000</td>\n",
              "      <td>Краснодар</td>\n",
              "      <td>25</td>\n",
              "      <td>Шоппинг</td>\n",
              "      <td>Автомобиль</td>\n",
              "      <td>1</td>\n",
              "      <td>New York</td>\n",
              "    </tr>\n",
              "    <tr>\n",
              "      <th>1</th>\n",
              "      <td>152000</td>\n",
              "      <td>Екатеринбург</td>\n",
              "      <td>60</td>\n",
              "      <td>Архитектура</td>\n",
              "      <td>Самолет</td>\n",
              "      <td>1</td>\n",
              "      <td>London</td>\n",
              "    </tr>\n",
              "    <tr>\n",
              "      <th>2</th>\n",
              "      <td>83000</td>\n",
              "      <td>Томск</td>\n",
              "      <td>49</td>\n",
              "      <td>Архитектура</td>\n",
              "      <td>Автомобиль</td>\n",
              "      <td>2</td>\n",
              "      <td>Sydney</td>\n",
              "    </tr>\n",
              "  </tbody>\n",
              "</table>\n",
              "</div>"
            ],
            "text/plain": [
              "   salary          city  age  ... transport_preference family_members    target\n",
              "0  196000     Краснодар   25  ...           Автомобиль              1  New York\n",
              "1  152000  Екатеринбург   60  ...              Самолет              1    London\n",
              "2   83000         Томск   49  ...           Автомобиль              2    Sydney\n",
              "\n",
              "[3 rows x 7 columns]"
            ]
          },
          "metadata": {
            "tags": []
          },
          "execution_count": 7
        }
      ]
    },
    {
      "cell_type": "code",
      "metadata": {
        "colab": {
          "base_uri": "https://localhost:8080/",
          "height": 295
        },
        "id": "CUNVNPaVyuwO",
        "outputId": "48beb809-84be-4fdd-8939-134ee18742ea"
      },
      "source": [
        "trips_data.describe()"
      ],
      "execution_count": 8,
      "outputs": [
        {
          "output_type": "execute_result",
          "data": {
            "text/html": [
              "<div>\n",
              "<style scoped>\n",
              "    .dataframe tbody tr th:only-of-type {\n",
              "        vertical-align: middle;\n",
              "    }\n",
              "\n",
              "    .dataframe tbody tr th {\n",
              "        vertical-align: top;\n",
              "    }\n",
              "\n",
              "    .dataframe thead th {\n",
              "        text-align: right;\n",
              "    }\n",
              "</style>\n",
              "<table border=\"1\" class=\"dataframe\">\n",
              "  <thead>\n",
              "    <tr style=\"text-align: right;\">\n",
              "      <th></th>\n",
              "      <th>salary</th>\n",
              "      <th>age</th>\n",
              "      <th>family_members</th>\n",
              "    </tr>\n",
              "  </thead>\n",
              "  <tbody>\n",
              "    <tr>\n",
              "      <th>count</th>\n",
              "      <td>1000.000000</td>\n",
              "      <td>1000.000000</td>\n",
              "      <td>1000.000000</td>\n",
              "    </tr>\n",
              "    <tr>\n",
              "      <th>mean</th>\n",
              "      <td>111935.000000</td>\n",
              "      <td>55.209000</td>\n",
              "      <td>1.295000</td>\n",
              "    </tr>\n",
              "    <tr>\n",
              "      <th>std</th>\n",
              "      <td>54580.049073</td>\n",
              "      <td>11.925164</td>\n",
              "      <td>0.885867</td>\n",
              "    </tr>\n",
              "    <tr>\n",
              "      <th>min</th>\n",
              "      <td>0.000000</td>\n",
              "      <td>18.000000</td>\n",
              "      <td>0.000000</td>\n",
              "    </tr>\n",
              "    <tr>\n",
              "      <th>25%</th>\n",
              "      <td>68000.000000</td>\n",
              "      <td>50.000000</td>\n",
              "      <td>1.000000</td>\n",
              "    </tr>\n",
              "    <tr>\n",
              "      <th>50%</th>\n",
              "      <td>99000.000000</td>\n",
              "      <td>58.000000</td>\n",
              "      <td>1.000000</td>\n",
              "    </tr>\n",
              "    <tr>\n",
              "      <th>75%</th>\n",
              "      <td>161000.000000</td>\n",
              "      <td>63.000000</td>\n",
              "      <td>2.000000</td>\n",
              "    </tr>\n",
              "    <tr>\n",
              "      <th>max</th>\n",
              "      <td>250000.000000</td>\n",
              "      <td>82.000000</td>\n",
              "      <td>4.000000</td>\n",
              "    </tr>\n",
              "  </tbody>\n",
              "</table>\n",
              "</div>"
            ],
            "text/plain": [
              "              salary          age  family_members\n",
              "count    1000.000000  1000.000000     1000.000000\n",
              "mean   111935.000000    55.209000        1.295000\n",
              "std     54580.049073    11.925164        0.885867\n",
              "min         0.000000    18.000000        0.000000\n",
              "25%     68000.000000    50.000000        1.000000\n",
              "50%     99000.000000    58.000000        1.000000\n",
              "75%    161000.000000    63.000000        2.000000\n",
              "max    250000.000000    82.000000        4.000000"
            ]
          },
          "metadata": {
            "tags": []
          },
          "execution_count": 8
        }
      ]
    },
    {
      "cell_type": "code",
      "metadata": {
        "colab": {
          "base_uri": "https://localhost:8080/"
        },
        "id": "7ltbqgaPy1rG",
        "outputId": "90c1e808-0657-41a7-80a6-1d80d0db8a9f"
      },
      "source": [
        "trips_data.shape"
      ],
      "execution_count": 10,
      "outputs": [
        {
          "output_type": "execute_result",
          "data": {
            "text/plain": [
              "(1000, 7)"
            ]
          },
          "metadata": {
            "tags": []
          },
          "execution_count": 10
        }
      ]
    },
    {
      "cell_type": "code",
      "metadata": {
        "colab": {
          "base_uri": "https://localhost:8080/",
          "height": 282
        },
        "id": "kUD25g4TzI6e",
        "outputId": "8c0fd49c-3485-40e2-87a8-d2c9f49e2901"
      },
      "source": [
        "trips_data[\"salary\"].hist()"
      ],
      "execution_count": 14,
      "outputs": [
        {
          "output_type": "execute_result",
          "data": {
            "text/plain": [
              "<matplotlib.axes._subplots.AxesSubplot at 0x7f4a8b69cd10>"
            ]
          },
          "metadata": {
            "tags": []
          },
          "execution_count": 14
        },
        {
          "output_type": "display_data",
          "data": {
            "image/png": "[encoded data removed]",
            "text/plain": [
              "<Figure size 432x288 with 1 Axes>"
            ]
          },
          "metadata": {
            "tags": [],
            "needs_background": "light"
          }
        }
      ]
    },
    {
      "cell_type": "code",
      "metadata": {
        "colab": {
          "base_uri": "https://localhost:8080/",
          "height": 282
        },
        "id": "RUckDpHrzP6h",
        "outputId": "53385e0b-08b1-41b0-911e-71cffbda18f7"
      },
      "source": [
        "trips_data[\"age\"].hist()"
      ],
      "execution_count": 17,
      "outputs": [
        {
          "output_type": "execute_result",
          "data": {
            "text/plain": [
              "<matplotlib.axes._subplots.AxesSubplot at 0x7f4a8575c050>"
            ]
          },
          "metadata": {
            "tags": []
          },
          "execution_count": 17
        },
        {
          "output_type": "display_data",
          "data": {
            "image/png": "[encoded data removed]",
            "text/plain": [
              "<Figure size 432x288 with 1 Axes>"
            ]
          },
          "metadata": {
            "tags": [],
            "needs_background": "light"
          }
        }
      ]
    },
    {
      "cell_type": "code",
      "metadata": {
        "colab": {
          "base_uri": "https://localhost:8080/"
        },
        "id": "vopG76SR0Xbl",
        "outputId": "dbea5b98-8990-4d1d-9e31-0753bbc54870"
      },
      "source": [
        "trips_data.columns"
      ],
      "execution_count": 18,
      "outputs": [
        {
          "output_type": "execute_result",
          "data": {
            "text/plain": [
              "Index(['salary', 'city', 'age', 'vacation_preference', 'transport_preference',\n",
              "       'family_members', 'target'],\n",
              "      dtype='object')"
            ]
          },
          "metadata": {
            "tags": []
          },
          "execution_count": 18
        }
      ]
    },
    {
      "cell_type": "code",
      "metadata": {
        "colab": {
          "base_uri": "https://localhost:8080/",
          "height": 345
        },
        "id": "1_M-Pcjx1IQp",
        "outputId": "a8126034-6eae-4c3a-d219-1894ba11bc60"
      },
      "source": [
        "trips_data[\"city\"].value_counts().plot(kind=\"bar\")"
      ],
      "execution_count": 21,
      "outputs": [
        {
          "output_type": "execute_result",
          "data": {
            "text/plain": [
              "<matplotlib.axes._subplots.AxesSubplot at 0x7f4a87c3d510>"
            ]
          },
          "metadata": {
            "tags": []
          },
          "execution_count": 21
        },
        {
          "output_type": "display_data",
          "data": {
            "image/png": "[encoded data removed]",
            "text/plain": [
              "<Figure size 432x288 with 1 Axes>"
            ]
          },
          "metadata": {
            "tags": [],
            "needs_background": "light"
          }
        }
      ]
    },
    {
      "cell_type": "code",
      "metadata": {
        "colab": {
          "base_uri": "https://localhost:8080/",
          "height": 358
        },
        "id": "HrHTcPYA1M_s",
        "outputId": "93e7b61b-caae-4943-b784-2242fe72c799"
      },
      "source": [
        "trips_data[\"vacation_preference\"].value_counts().plot(kind=\"bar\")"
      ],
      "execution_count": 22,
      "outputs": [
        {
          "output_type": "execute_result",
          "data": {
            "text/plain": [
              "<matplotlib.axes._subplots.AxesSubplot at 0x7f4a8540aa50>"
            ]
          },
          "metadata": {
            "tags": []
          },
          "execution_count": 22
        },
        {
          "output_type": "display_data",
          "data": {
            "image/png": "[encoded data removed]",
            "text/plain": [
              "<Figure size 432x288 with 1 Axes>"
            ]
          },
          "metadata": {
            "tags": [],
            "needs_background": "light"
          }
        }
      ]
    },
    {
      "cell_type": "code",
      "metadata": {
        "colab": {
          "base_uri": "https://localhost:8080/",
          "height": 387
        },
        "id": "0oJxl9_W2LCr",
        "outputId": "643e455c-46ad-4b1f-c819-1850aa314072"
      },
      "source": [
        "trips_data[\"transport_preference\"].value_counts().plot(kind=\"bar\")"
      ],
      "execution_count": 23,
      "outputs": [
        {
          "output_type": "execute_result",
          "data": {
            "text/plain": [
              "<matplotlib.axes._subplots.AxesSubplot at 0x7f4a85436b10>"
            ]
          },
          "metadata": {
            "tags": []
          },
          "execution_count": 23
        },
        {
          "output_type": "display_data",
          "data": {
            "image/png": "[encoded data removed]",
            "text/plain": [
              "<Figure size 432x288 with 1 Axes>"
            ]
          },
          "metadata": {
            "tags": [],
            "needs_background": "light"
          }
        }
      ]
    },
    {
      "cell_type": "code",
      "metadata": {
        "colab": {
          "base_uri": "https://localhost:8080/",
          "height": 318
        },
        "id": "yoSmCf-z2X83",
        "outputId": "9beb72d9-8bcd-4dfb-f568-472b9949b91d"
      },
      "source": [
        "trips_data[\"target\"].value_counts().plot(kind=\"bar\")"
      ],
      "execution_count": 24,
      "outputs": [
        {
          "output_type": "execute_result",
          "data": {
            "text/plain": [
              "<matplotlib.axes._subplots.AxesSubplot at 0x7f4a853de790>"
            ]
          },
          "metadata": {
            "tags": []
          },
          "execution_count": 24
        },
        {
          "output_type": "display_data",
          "data": {
            "image/png": "[encoded data removed]",
            "text/plain": [
              "<Figure size 432x288 with 1 Axes>"
            ]
          },
          "metadata": {
            "tags": [],
            "needs_background": "light"
          }
        }
      ]
    },
    {
      "cell_type": "code",
      "metadata": {
        "colab": {
          "base_uri": "https://localhost:8080/",
          "height": 203
        },
        "id": "F68Kr9mr2djD",
        "outputId": "1f2f2564-7c72-48f2-8a89-d6eeff121a99"
      },
      "source": [
        "trips_data.head()"
      ],
      "execution_count": 25,
      "outputs": [
        {
          "output_type": "execute_result",
          "data": {
            "text/html": [
              "<div>\n",
              "<style scoped>\n",
              "    .dataframe tbody tr th:only-of-type {\n",
              "        vertical-align: middle;\n",
              "    }\n",
              "\n",
              "    .dataframe tbody tr th {\n",
              "        vertical-align: top;\n",
              "    }\n",
              "\n",
              "    .dataframe thead th {\n",
              "        text-align: right;\n",
              "    }\n",
              "</style>\n",
              "<table border=\"1\" class=\"dataframe\">\n",
              "  <thead>\n",
              "    <tr style=\"text-align: right;\">\n",
              "      <th></th>\n",
              "      <th>salary</th>\n",
              "      <th>city</th>\n",
              "      <th>age</th>\n",
              "      <th>vacation_preference</th>\n",
              "      <th>transport_preference</th>\n",
              "      <th>family_members</th>\n",
              "      <th>target</th>\n",
              "    </tr>\n",
              "  </thead>\n",
              "  <tbody>\n",
              "    <tr>\n",
              "      <th>0</th>\n",
              "      <td>196000</td>\n",
              "      <td>Краснодар</td>\n",
              "      <td>25</td>\n",
              "      <td>Шоппинг</td>\n",
              "      <td>Автомобиль</td>\n",
              "      <td>1</td>\n",
              "      <td>New York</td>\n",
              "    </tr>\n",
              "    <tr>\n",
              "      <th>1</th>\n",
              "      <td>152000</td>\n",
              "      <td>Екатеринбург</td>\n",
              "      <td>60</td>\n",
              "      <td>Архитектура</td>\n",
              "      <td>Самолет</td>\n",
              "      <td>1</td>\n",
              "      <td>London</td>\n",
              "    </tr>\n",
              "    <tr>\n",
              "      <th>2</th>\n",
              "      <td>83000</td>\n",
              "      <td>Томск</td>\n",
              "      <td>49</td>\n",
              "      <td>Архитектура</td>\n",
              "      <td>Автомобиль</td>\n",
              "      <td>2</td>\n",
              "      <td>Sydney</td>\n",
              "    </tr>\n",
              "    <tr>\n",
              "      <th>3</th>\n",
              "      <td>161000</td>\n",
              "      <td>Краснодар</td>\n",
              "      <td>41</td>\n",
              "      <td>Шоппинг</td>\n",
              "      <td>Автомобиль</td>\n",
              "      <td>0</td>\n",
              "      <td>New York</td>\n",
              "    </tr>\n",
              "    <tr>\n",
              "      <th>4</th>\n",
              "      <td>146000</td>\n",
              "      <td>Краснодар</td>\n",
              "      <td>58</td>\n",
              "      <td>Архитектура</td>\n",
              "      <td>Самолет</td>\n",
              "      <td>1</td>\n",
              "      <td>Sydney</td>\n",
              "    </tr>\n",
              "  </tbody>\n",
              "</table>\n",
              "</div>"
            ],
            "text/plain": [
              "   salary          city  age  ... transport_preference family_members    target\n",
              "0  196000     Краснодар   25  ...           Автомобиль              1  New York\n",
              "1  152000  Екатеринбург   60  ...              Самолет              1    London\n",
              "2   83000         Томск   49  ...           Автомобиль              2    Sydney\n",
              "3  161000     Краснодар   41  ...           Автомобиль              0  New York\n",
              "4  146000     Краснодар   58  ...              Самолет              1    Sydney\n",
              "\n",
              "[5 rows x 7 columns]"
            ]
          },
          "metadata": {
            "tags": []
          },
          "execution_count": 25
        }
      ]
    },
    {
      "cell_type": "code",
      "metadata": {
        "colab": {
          "base_uri": "https://localhost:8080/",
          "height": 417
        },
        "id": "07AxPDgK2kJY",
        "outputId": "3b09d5a0-b196-4c47-d3cd-e62594c89420"
      },
      "source": [
        "trips_data[trips_data[\"city\"] == \"Краснодар\"]"
      ],
      "execution_count": 27,
      "outputs": [
        {
          "output_type": "execute_result",
          "data": {
            "text/html": [
              "<div>\n",
              "<style scoped>\n",
              "    .dataframe tbody tr th:only-of-type {\n",
              "        vertical-align: middle;\n",
              "    }\n",
              "\n",
              "    .dataframe tbody tr th {\n",
              "        vertical-align: top;\n",
              "    }\n",
              "\n",
              "    .dataframe thead th {\n",
              "        text-align: right;\n",
              "    }\n",
              "</style>\n",
              "<table border=\"1\" class=\"dataframe\">\n",
              "  <thead>\n",
              "    <tr style=\"text-align: right;\">\n",
              "      <th></th>\n",
              "      <th>salary</th>\n",
              "      <th>city</th>\n",
              "      <th>age</th>\n",
              "      <th>vacation_preference</th>\n",
              "      <th>transport_preference</th>\n",
              "      <th>family_members</th>\n",
              "      <th>target</th>\n",
              "    </tr>\n",
              "  </thead>\n",
              "  <tbody>\n",
              "    <tr>\n",
              "      <th>0</th>\n",
              "      <td>196000</td>\n",
              "      <td>Краснодар</td>\n",
              "      <td>25</td>\n",
              "      <td>Шоппинг</td>\n",
              "      <td>Автомобиль</td>\n",
              "      <td>1</td>\n",
              "      <td>New York</td>\n",
              "    </tr>\n",
              "    <tr>\n",
              "      <th>3</th>\n",
              "      <td>161000</td>\n",
              "      <td>Краснодар</td>\n",
              "      <td>41</td>\n",
              "      <td>Шоппинг</td>\n",
              "      <td>Автомобиль</td>\n",
              "      <td>0</td>\n",
              "      <td>New York</td>\n",
              "    </tr>\n",
              "    <tr>\n",
              "      <th>4</th>\n",
              "      <td>146000</td>\n",
              "      <td>Краснодар</td>\n",
              "      <td>58</td>\n",
              "      <td>Архитектура</td>\n",
              "      <td>Самолет</td>\n",
              "      <td>1</td>\n",
              "      <td>Sydney</td>\n",
              "    </tr>\n",
              "    <tr>\n",
              "      <th>11</th>\n",
              "      <td>82000</td>\n",
              "      <td>Краснодар</td>\n",
              "      <td>60</td>\n",
              "      <td>Архитектура</td>\n",
              "      <td>Поезд</td>\n",
              "      <td>0</td>\n",
              "      <td>London</td>\n",
              "    </tr>\n",
              "    <tr>\n",
              "      <th>12</th>\n",
              "      <td>43000</td>\n",
              "      <td>Краснодар</td>\n",
              "      <td>59</td>\n",
              "      <td>Архитектура</td>\n",
              "      <td>Самолет</td>\n",
              "      <td>2</td>\n",
              "      <td>Paris</td>\n",
              "    </tr>\n",
              "    <tr>\n",
              "      <th>...</th>\n",
              "      <td>...</td>\n",
              "      <td>...</td>\n",
              "      <td>...</td>\n",
              "      <td>...</td>\n",
              "      <td>...</td>\n",
              "      <td>...</td>\n",
              "      <td>...</td>\n",
              "    </tr>\n",
              "    <tr>\n",
              "      <th>995</th>\n",
              "      <td>81000</td>\n",
              "      <td>Краснодар</td>\n",
              "      <td>55</td>\n",
              "      <td>Пляжный отдых</td>\n",
              "      <td>Морской транспорт</td>\n",
              "      <td>2</td>\n",
              "      <td>Paris</td>\n",
              "    </tr>\n",
              "    <tr>\n",
              "      <th>996</th>\n",
              "      <td>96000</td>\n",
              "      <td>Краснодар</td>\n",
              "      <td>32</td>\n",
              "      <td>Архитектура</td>\n",
              "      <td>Поезд</td>\n",
              "      <td>1</td>\n",
              "      <td>Paris</td>\n",
              "    </tr>\n",
              "    <tr>\n",
              "      <th>997</th>\n",
              "      <td>56000</td>\n",
              "      <td>Краснодар</td>\n",
              "      <td>68</td>\n",
              "      <td>Архитектура</td>\n",
              "      <td>Самолет</td>\n",
              "      <td>2</td>\n",
              "      <td>Paris</td>\n",
              "    </tr>\n",
              "    <tr>\n",
              "      <th>998</th>\n",
              "      <td>162000</td>\n",
              "      <td>Краснодар</td>\n",
              "      <td>69</td>\n",
              "      <td>Архитектура</td>\n",
              "      <td>Самолет</td>\n",
              "      <td>0</td>\n",
              "      <td>Sydney</td>\n",
              "    </tr>\n",
              "    <tr>\n",
              "      <th>999</th>\n",
              "      <td>171000</td>\n",
              "      <td>Краснодар</td>\n",
              "      <td>35</td>\n",
              "      <td>Архитектура</td>\n",
              "      <td>Автомобиль</td>\n",
              "      <td>1</td>\n",
              "      <td>New York</td>\n",
              "    </tr>\n",
              "  </tbody>\n",
              "</table>\n",
              "<p>307 rows × 7 columns</p>\n",
              "</div>"
            ],
            "text/plain": [
              "     salary       city  age  ... transport_preference family_members    target\n",
              "0    196000  Краснодар   25  ...           Автомобиль              1  New York\n",
              "3    161000  Краснодар   41  ...           Автомобиль              0  New York\n",
              "4    146000  Краснодар   58  ...              Самолет              1    Sydney\n",
              "11    82000  Краснодар   60  ...                Поезд              0    London\n",
              "12    43000  Краснодар   59  ...              Самолет              2     Paris\n",
              "..      ...        ...  ...  ...                  ...            ...       ...\n",
              "995   81000  Краснодар   55  ...    Морской транспорт              2     Paris\n",
              "996   96000  Краснодар   32  ...                Поезд              1     Paris\n",
              "997   56000  Краснодар   68  ...              Самолет              2     Paris\n",
              "998  162000  Краснодар   69  ...              Самолет              0    Sydney\n",
              "999  171000  Краснодар   35  ...           Автомобиль              1  New York\n",
              "\n",
              "[307 rows x 7 columns]"
            ]
          },
          "metadata": {
            "tags": []
          },
          "execution_count": 27
        }
      ]
    },
    {
      "cell_type": "code",
      "metadata": {
        "colab": {
          "base_uri": "https://localhost:8080/",
          "height": 417
        },
        "id": "-j9Spiwf7CFo",
        "outputId": "4916c0f1-94d8-4acc-d26c-a1f7a9346f73"
      },
      "source": [
        "trips_data[trips_data[\"salary\"] > 100000]"
      ],
      "execution_count": 28,
      "outputs": [
        {
          "output_type": "execute_result",
          "data": {
            "text/html": [
              "<div>\n",
              "<style scoped>\n",
              "    .dataframe tbody tr th:only-of-type {\n",
              "        vertical-align: middle;\n",
              "    }\n",
              "\n",
              "    .dataframe tbody tr th {\n",
              "        vertical-align: top;\n",
              "    }\n",
              "\n",
              "    .dataframe thead th {\n",
              "        text-align: right;\n",
              "    }\n",
              "</style>\n",
              "<table border=\"1\" class=\"dataframe\">\n",
              "  <thead>\n",
              "    <tr style=\"text-align: right;\">\n",
              "      <th></th>\n",
              "      <th>salary</th>\n",
              "      <th>city</th>\n",
              "      <th>age</th>\n",
              "      <th>vacation_preference</th>\n",
              "      <th>transport_preference</th>\n",
              "      <th>family_members</th>\n",
              "      <th>target</th>\n",
              "    </tr>\n",
              "  </thead>\n",
              "  <tbody>\n",
              "    <tr>\n",
              "      <th>0</th>\n",
              "      <td>196000</td>\n",
              "      <td>Краснодар</td>\n",
              "      <td>25</td>\n",
              "      <td>Шоппинг</td>\n",
              "      <td>Автомобиль</td>\n",
              "      <td>1</td>\n",
              "      <td>New York</td>\n",
              "    </tr>\n",
              "    <tr>\n",
              "      <th>1</th>\n",
              "      <td>152000</td>\n",
              "      <td>Екатеринбург</td>\n",
              "      <td>60</td>\n",
              "      <td>Архитектура</td>\n",
              "      <td>Самолет</td>\n",
              "      <td>1</td>\n",
              "      <td>London</td>\n",
              "    </tr>\n",
              "    <tr>\n",
              "      <th>3</th>\n",
              "      <td>161000</td>\n",
              "      <td>Краснодар</td>\n",
              "      <td>41</td>\n",
              "      <td>Шоппинг</td>\n",
              "      <td>Автомобиль</td>\n",
              "      <td>0</td>\n",
              "      <td>New York</td>\n",
              "    </tr>\n",
              "    <tr>\n",
              "      <th>4</th>\n",
              "      <td>146000</td>\n",
              "      <td>Краснодар</td>\n",
              "      <td>58</td>\n",
              "      <td>Архитектура</td>\n",
              "      <td>Самолет</td>\n",
              "      <td>1</td>\n",
              "      <td>Sydney</td>\n",
              "    </tr>\n",
              "    <tr>\n",
              "      <th>5</th>\n",
              "      <td>209000</td>\n",
              "      <td>Новосибирск</td>\n",
              "      <td>55</td>\n",
              "      <td>Архитектура</td>\n",
              "      <td>Самолет</td>\n",
              "      <td>2</td>\n",
              "      <td>Tokio</td>\n",
              "    </tr>\n",
              "    <tr>\n",
              "      <th>...</th>\n",
              "      <td>...</td>\n",
              "      <td>...</td>\n",
              "      <td>...</td>\n",
              "      <td>...</td>\n",
              "      <td>...</td>\n",
              "      <td>...</td>\n",
              "      <td>...</td>\n",
              "    </tr>\n",
              "    <tr>\n",
              "      <th>991</th>\n",
              "      <td>172000</td>\n",
              "      <td>Петербург</td>\n",
              "      <td>61</td>\n",
              "      <td>Пляжный отдых</td>\n",
              "      <td>Самолет</td>\n",
              "      <td>3</td>\n",
              "      <td>Tokio</td>\n",
              "    </tr>\n",
              "    <tr>\n",
              "      <th>993</th>\n",
              "      <td>224000</td>\n",
              "      <td>Краснодар</td>\n",
              "      <td>54</td>\n",
              "      <td>Шоппинг</td>\n",
              "      <td>Самолет</td>\n",
              "      <td>0</td>\n",
              "      <td>Sydney</td>\n",
              "    </tr>\n",
              "    <tr>\n",
              "      <th>994</th>\n",
              "      <td>212000</td>\n",
              "      <td>Киев</td>\n",
              "      <td>25</td>\n",
              "      <td>Архитектура</td>\n",
              "      <td>Автомобиль</td>\n",
              "      <td>1</td>\n",
              "      <td>New York</td>\n",
              "    </tr>\n",
              "    <tr>\n",
              "      <th>998</th>\n",
              "      <td>162000</td>\n",
              "      <td>Краснодар</td>\n",
              "      <td>69</td>\n",
              "      <td>Архитектура</td>\n",
              "      <td>Самолет</td>\n",
              "      <td>0</td>\n",
              "      <td>Sydney</td>\n",
              "    </tr>\n",
              "    <tr>\n",
              "      <th>999</th>\n",
              "      <td>171000</td>\n",
              "      <td>Краснодар</td>\n",
              "      <td>35</td>\n",
              "      <td>Архитектура</td>\n",
              "      <td>Автомобиль</td>\n",
              "      <td>1</td>\n",
              "      <td>New York</td>\n",
              "    </tr>\n",
              "  </tbody>\n",
              "</table>\n",
              "<p>488 rows × 7 columns</p>\n",
              "</div>"
            ],
            "text/plain": [
              "     salary          city  age  ... transport_preference family_members    target\n",
              "0    196000     Краснодар   25  ...           Автомобиль              1  New York\n",
              "1    152000  Екатеринбург   60  ...              Самолет              1    London\n",
              "3    161000     Краснодар   41  ...           Автомобиль              0  New York\n",
              "4    146000     Краснодар   58  ...              Самолет              1    Sydney\n",
              "5    209000   Новосибирск   55  ...              Самолет              2     Tokio\n",
              "..      ...           ...  ...  ...                  ...            ...       ...\n",
              "991  172000     Петербург   61  ...              Самолет              3     Tokio\n",
              "993  224000     Краснодар   54  ...              Самолет              0    Sydney\n",
              "994  212000          Киев   25  ...           Автомобиль              1  New York\n",
              "998  162000     Краснодар   69  ...              Самолет              0    Sydney\n",
              "999  171000     Краснодар   35  ...           Автомобиль              1  New York\n",
              "\n",
              "[488 rows x 7 columns]"
            ]
          },
          "metadata": {
            "tags": []
          },
          "execution_count": 28
        }
      ]
    },
    {
      "cell_type": "code",
      "metadata": {
        "colab": {
          "base_uri": "https://localhost:8080/"
        },
        "id": "vW4uRb9Z7Jh5",
        "outputId": "9a6e7aef-188f-4deb-bde5-11dd017b928c"
      },
      "source": [
        "trips_data.groupby(\"city\")[\"salary\"].mean()"
      ],
      "execution_count": 30,
      "outputs": [
        {
          "output_type": "execute_result",
          "data": {
            "text/plain": [
              "city\n",
              "Екатеринбург    169880.597015\n",
              "Киев            101962.264151\n",
              "Краснодар        94524.429967\n",
              "Минск           107500.000000\n",
              "Москва          206000.000000\n",
              "Новосибирск     173212.121212\n",
              "Омск            150690.476190\n",
              "Петербург       189538.461538\n",
              "Томск            97722.846442\n",
              "Хабаровск       112644.859813\n",
              "Ярославль        32000.000000\n",
              "Name: salary, dtype: float64"
            ]
          },
          "metadata": {
            "tags": []
          },
          "execution_count": 30
        }
      ]
    },
    {
      "cell_type": "code",
      "metadata": {
        "colab": {
          "base_uri": "https://localhost:8080/"
        },
        "id": "oZ5Uixhq7WHJ",
        "outputId": "db2f2eac-4d2c-42c5-bfa8-b576b826b651"
      },
      "source": [
        "trips_data.groupby(\"city\")[\"salary\"].median()"
      ],
      "execution_count": 31,
      "outputs": [
        {
          "output_type": "execute_result",
          "data": {
            "text/plain": [
              "city\n",
              "Екатеринбург    172000\n",
              "Киев             88000\n",
              "Краснодар        82000\n",
              "Минск            93000\n",
              "Москва          206000\n",
              "Новосибирск     182000\n",
              "Омск            153500\n",
              "Петербург       190000\n",
              "Томск            85000\n",
              "Хабаровск       105000\n",
              "Ярославль        32000\n",
              "Name: salary, dtype: int64"
            ]
          },
          "metadata": {
            "tags": []
          },
          "execution_count": 31
        }
      ]
    },
    {
      "cell_type": "code",
      "metadata": {
        "colab": {
          "base_uri": "https://localhost:8080/"
        },
        "id": "jrdV2a-R7qQb",
        "outputId": "74135671-91c3-47a2-cbce-01eabf3f01d9"
      },
      "source": [
        "trips_data.groupby([\"vacation_preference\", \"target\"])[\"salary\"].count()"
      ],
      "execution_count": 35,
      "outputs": [
        {
          "output_type": "execute_result",
          "data": {
            "text/plain": [
              "vacation_preference  target  \n",
              "Архитектура          London      128\n",
              "                     New York     81\n",
              "                     Paris        93\n",
              "                     Sydney       74\n",
              "                     Tokio        81\n",
              "Ночные клубы         New York      1\n",
              "Пляжный отдых        London       70\n",
              "                     New York      1\n",
              "                     Paris        40\n",
              "                     Sydney       51\n",
              "                     Tokio        46\n",
              "Шоппинг              London        1\n",
              "                     New York    118\n",
              "                     Paris        70\n",
              "                     Sydney       73\n",
              "                     Tokio        72\n",
              "Name: salary, dtype: int64"
            ]
          },
          "metadata": {
            "tags": []
          },
          "execution_count": 35
        }
      ]
    },
    {
      "cell_type": "code",
      "metadata": {
        "colab": {
          "base_uri": "https://localhost:8080/"
        },
        "id": "xZwqWlDF8APm",
        "outputId": "57d7f9a7-9b96-4813-dd7a-94eec46612f8"
      },
      "source": [
        "trips_data.groupby([\"vacation_preference\", \"city\", \"target\"])[\"salary\"].count()"
      ],
      "execution_count": 36,
      "outputs": [
        {
          "output_type": "execute_result",
          "data": {
            "text/plain": [
              "vacation_preference  city          target  \n",
              "Архитектура          Екатеринбург  London      22\n",
              "                                   Paris        1\n",
              "                                   Tokio       17\n",
              "                     Киев          London       4\n",
              "                                   New York    20\n",
              "                                               ..\n",
              "Шоппинг              Хабаровск     London       1\n",
              "                                   New York    19\n",
              "                                   Paris        5\n",
              "                                   Sydney      11\n",
              "                                   Tokio        1\n",
              "Name: salary, Length: 85, dtype: int64"
            ]
          },
          "metadata": {
            "tags": []
          },
          "execution_count": 36
        }
      ]
    },
    {
      "cell_type": "code",
      "metadata": {
        "colab": {
          "base_uri": "https://localhost:8080/",
          "height": 35
        },
        "id": "bIoFpjiJ-AS0",
        "outputId": "7cab3606-2e46-4331-9dd2-e4dd06e0ae7f"
      },
      "source": [
        "\"Preparing data for model\""
      ],
      "execution_count": 38,
      "outputs": [
        {
          "output_type": "execute_result",
          "data": {
            "application/vnd.google.colaboratory.intrinsic+json": {
              "type": "string"
            },
            "text/plain": [
              "'Preparing data for model'"
            ]
          },
          "metadata": {
            "tags": []
          },
          "execution_count": 38
        }
      ]
    },
    {
      "cell_type": "code",
      "metadata": {
        "colab": {
          "base_uri": "https://localhost:8080/",
          "height": 203
        },
        "id": "oX-L5xzI--G3",
        "outputId": "cc59d540-b9ae-4fed-a064-43dfea83e434"
      },
      "source": [
        "trips_data.head()"
      ],
      "execution_count": 39,
      "outputs": [
        {
          "output_type": "execute_result",
          "data": {
            "text/html": [
              "<div>\n",
              "<style scoped>\n",
              "    .dataframe tbody tr th:only-of-type {\n",
              "        vertical-align: middle;\n",
              "    }\n",
              "\n",
              "    .dataframe tbody tr th {\n",
              "        vertical-align: top;\n",
              "    }\n",
              "\n",
              "    .dataframe thead th {\n",
              "        text-align: right;\n",
              "    }\n",
              "</style>\n",
              "<table border=\"1\" class=\"dataframe\">\n",
              "  <thead>\n",
              "    <tr style=\"text-align: right;\">\n",
              "      <th></th>\n",
              "      <th>salary</th>\n",
              "      <th>city</th>\n",
              "      <th>age</th>\n",
              "      <th>vacation_preference</th>\n",
              "      <th>transport_preference</th>\n",
              "      <th>family_members</th>\n",
              "      <th>target</th>\n",
              "    </tr>\n",
              "  </thead>\n",
              "  <tbody>\n",
              "    <tr>\n",
              "      <th>0</th>\n",
              "      <td>196000</td>\n",
              "      <td>Краснодар</td>\n",
              "      <td>25</td>\n",
              "      <td>Шоппинг</td>\n",
              "      <td>Автомобиль</td>\n",
              "      <td>1</td>\n",
              "      <td>New York</td>\n",
              "    </tr>\n",
              "    <tr>\n",
              "      <th>1</th>\n",
              "      <td>152000</td>\n",
              "      <td>Екатеринбург</td>\n",
              "      <td>60</td>\n",
              "      <td>Архитектура</td>\n",
              "      <td>Самолет</td>\n",
              "      <td>1</td>\n",
              "      <td>London</td>\n",
              "    </tr>\n",
              "    <tr>\n",
              "      <th>2</th>\n",
              "      <td>83000</td>\n",
              "      <td>Томск</td>\n",
              "      <td>49</td>\n",
              "      <td>Архитектура</td>\n",
              "      <td>Автомобиль</td>\n",
              "      <td>2</td>\n",
              "      <td>Sydney</td>\n",
              "    </tr>\n",
              "    <tr>\n",
              "      <th>3</th>\n",
              "      <td>161000</td>\n",
              "      <td>Краснодар</td>\n",
              "      <td>41</td>\n",
              "      <td>Шоппинг</td>\n",
              "      <td>Автомобиль</td>\n",
              "      <td>0</td>\n",
              "      <td>New York</td>\n",
              "    </tr>\n",
              "    <tr>\n",
              "      <th>4</th>\n",
              "      <td>146000</td>\n",
              "      <td>Краснодар</td>\n",
              "      <td>58</td>\n",
              "      <td>Архитектура</td>\n",
              "      <td>Самолет</td>\n",
              "      <td>1</td>\n",
              "      <td>Sydney</td>\n",
              "    </tr>\n",
              "  </tbody>\n",
              "</table>\n",
              "</div>"
            ],
            "text/plain": [
              "   salary          city  age  ... transport_preference family_members    target\n",
              "0  196000     Краснодар   25  ...           Автомобиль              1  New York\n",
              "1  152000  Екатеринбург   60  ...              Самолет              1    London\n",
              "2   83000         Томск   49  ...           Автомобиль              2    Sydney\n",
              "3  161000     Краснодар   41  ...           Автомобиль              0  New York\n",
              "4  146000     Краснодар   58  ...              Самолет              1    Sydney\n",
              "\n",
              "[5 rows x 7 columns]"
            ]
          },
          "metadata": {
            "tags": []
          },
          "execution_count": 39
        }
      ]
    },
    {
      "cell_type": "code",
      "metadata": {
        "id": "vmVyOQw7__jN"
      },
      "source": [
        "# преобразование DF так чтобы в ней не было строк а были числа"
      ],
      "execution_count": 40,
      "outputs": []
    },
    {
      "cell_type": "code",
      "metadata": {
        "id": "dpB-paF3AWku"
      },
      "source": [
        "# city_Krasnodar\n",
        "\n",
        "# 1 - if person is from this city\n",
        "\n",
        "# 2 - if person is not from this city"
      ],
      "execution_count": 42,
      "outputs": []
    },
    {
      "cell_type": "code",
      "metadata": {
        "id": "sdLE5W0dAxxA"
      },
      "source": [
        "df = pd.get_dummies(trips_data, columns=['city', 'vacation_preference', 'transport_preference'])"
      ],
      "execution_count": 46,
      "outputs": []
    },
    {
      "cell_type": "code",
      "metadata": {
        "id": "hfI4gdq8BDlC"
      },
      "source": [
        ""
      ],
      "execution_count": null,
      "outputs": []
    },
    {
      "cell_type": "markdown",
      "metadata": {
        "id": "NNTiKH08C7Gh"
      },
      "source": [
        "X Входные данные (зп, возраст, и т.д.), т.е. то, на основе чего мы делаем прогноз\n",
        "\n",
        "Y Выходные данные (target город), т.е. то, что мы прогнозируем"
      ]
    },
    {
      "cell_type": "markdown",
      "metadata": {
        "id": "cinfy5apDi2H"
      },
      "source": [
        "ОБУЧАЮЩАЯ ВЫБОРКА"
      ]
    },
    {
      "cell_type": "code",
      "metadata": {
        "id": "ho8AoNwBDEBx"
      },
      "source": [
        "X = df.drop('target', axis=1)"
      ],
      "execution_count": 47,
      "outputs": []
    },
    {
      "cell_type": "code",
      "metadata": {
        "id": "xoggt2JPDVzZ"
      },
      "source": [
        "y = df['target']"
      ],
      "execution_count": 48,
      "outputs": []
    },
    {
      "cell_type": "code",
      "metadata": {
        "id": "8NPogl20DbyM"
      },
      "source": [
        "from sklearn.ensemble import RandomForestClassifier"
      ],
      "execution_count": 49,
      "outputs": []
    },
    {
      "cell_type": "code",
      "metadata": {
        "id": "fQZSmRaEEbKh"
      },
      "source": [
        ""
      ],
      "execution_count": null,
      "outputs": []
    },
    {
      "cell_type": "markdown",
      "metadata": {
        "id": "XgQybYS9EdR2"
      },
      "source": [
        "Классификация — задача нахождения класса объекта\n",
        "\n",
        "Класс — Город, куда ехать\n",
        "\n",
        "Объект — Человек"
      ]
    },
    {
      "cell_type": "code",
      "metadata": {
        "colab": {
          "base_uri": "https://localhost:8080/"
        },
        "id": "vz92eHoXEk85",
        "outputId": "b5c54cd6-909f-4a1e-ff1e-937e89173f41"
      },
      "source": [
        "model = RandomForestClassifier()  # настройки\n",
        "model.fit(X,y) # обучение"
      ],
      "execution_count": 50,
      "outputs": [
        {
          "output_type": "execute_result",
          "data": {
            "text/plain": [
              "RandomForestClassifier(bootstrap=True, ccp_alpha=0.0, class_weight=None,\n",
              "                       criterion='gini', max_depth=None, max_features='auto',\n",
              "                       max_leaf_nodes=None, max_samples=None,\n",
              "                       min_impurity_decrease=0.0, min_impurity_split=None,\n",
              "                       min_samples_leaf=1, min_samples_split=2,\n",
              "                       min_weight_fraction_leaf=0.0, n_estimators=100,\n",
              "                       n_jobs=None, oob_score=False, random_state=None,\n",
              "                       verbose=0, warm_start=False)"
            ]
          },
          "metadata": {
            "tags": []
          },
          "execution_count": 50
        }
      ]
    },
    {
      "cell_type": "code",
      "metadata": {
        "id": "Evxs5AnjFG7C"
      },
      "source": [
        "# Еще нужно будет проверять качество модели, но это в другом уроке"
      ],
      "execution_count": 52,
      "outputs": []
    },
    {
      "cell_type": "code",
      "metadata": {
        "colab": {
          "base_uri": "https://localhost:8080/"
        },
        "id": "D940HaXQFsvw",
        "outputId": "fe2c0d27-d895-4a83-d2d9-b9ec6a5e7d7c"
      },
      "source": [
        "{col:[0] for col in X.columns} # generate a dictionary"
      ],
      "execution_count": 54,
      "outputs": [
        {
          "output_type": "execute_result",
          "data": {
            "text/plain": [
              "{'age': [0],\n",
              " 'city_Екатеринбург': [0],\n",
              " 'city_Киев': [0],\n",
              " 'city_Краснодар': [0],\n",
              " 'city_Минск': [0],\n",
              " 'city_Москва': [0],\n",
              " 'city_Новосибирск': [0],\n",
              " 'city_Омск': [0],\n",
              " 'city_Петербург': [0],\n",
              " 'city_Томск': [0],\n",
              " 'city_Хабаровск': [0],\n",
              " 'city_Ярославль': [0],\n",
              " 'family_members': [0],\n",
              " 'salary': [0],\n",
              " 'transport_preference_Автомобиль': [0],\n",
              " 'transport_preference_Космический корабль': [0],\n",
              " 'transport_preference_Морской транспорт': [0],\n",
              " 'transport_preference_Поезд': [0],\n",
              " 'transport_preference_Самолет': [0],\n",
              " 'vacation_preference_Архитектура': [0],\n",
              " 'vacation_preference_Ночные клубы': [0],\n",
              " 'vacation_preference_Пляжный отдых': [0],\n",
              " 'vacation_preference_Шоппинг': [0]}"
            ]
          },
          "metadata": {
            "tags": []
          },
          "execution_count": 54
        }
      ]
    },
    {
      "cell_type": "code",
      "metadata": {
        "id": "b7Tv0auWF6di"
      },
      "source": [
        "example = {'age': [37],\n",
        " 'city_Екатеринбург': [1],\n",
        " 'city_Киев': [0],\n",
        " 'city_Краснодар': [0],\n",
        " 'city_Минск': [0],\n",
        " 'city_Москва': [0],\n",
        " 'city_Новосибирск': [0],\n",
        " 'city_Омск': [0],\n",
        " 'city_Петербург': [0],\n",
        " 'city_Томск': [0],\n",
        " 'city_Хабаровск': [0],\n",
        " 'city_Ярославль': [0],\n",
        " 'family_members': [1],\n",
        " 'salary': [130000],\n",
        " 'transport_preference_Автомобиль': [0],\n",
        " 'transport_preference_Космический корабль': [0],\n",
        " 'transport_preference_Морской транспорт': [0],\n",
        " 'transport_preference_Поезд': [0],\n",
        " 'transport_preference_Самолет': [1],\n",
        " 'vacation_preference_Архитектура': [1],\n",
        " 'vacation_preference_Ночные клубы': [0],\n",
        " 'vacation_preference_Пляжный отдых': [0],\n",
        " 'vacation_preference_Шоппинг': [0]}"
      ],
      "execution_count": 68,
      "outputs": []
    },
    {
      "cell_type": "code",
      "metadata": {
        "id": "Ivm5QCtZGUcA"
      },
      "source": [
        "example_df = pd.DataFrame(data=example)"
      ],
      "execution_count": 69,
      "outputs": []
    },
    {
      "cell_type": "code",
      "metadata": {
        "colab": {
          "base_uri": "https://localhost:8080/",
          "height": 117
        },
        "id": "DifnViD0HGgF",
        "outputId": "86367347-6219-487c-a750-c89210721cdb"
      },
      "source": [
        "example_df"
      ],
      "execution_count": 70,
      "outputs": [
        {
          "output_type": "execute_result",
          "data": {
            "text/html": [
              "<div>\n",
              "<style scoped>\n",
              "    .dataframe tbody tr th:only-of-type {\n",
              "        vertical-align: middle;\n",
              "    }\n",
              "\n",
              "    .dataframe tbody tr th {\n",
              "        vertical-align: top;\n",
              "    }\n",
              "\n",
              "    .dataframe thead th {\n",
              "        text-align: right;\n",
              "    }\n",
              "</style>\n",
              "<table border=\"1\" class=\"dataframe\">\n",
              "  <thead>\n",
              "    <tr style=\"text-align: right;\">\n",
              "      <th></th>\n",
              "      <th>age</th>\n",
              "      <th>city_Екатеринбург</th>\n",
              "      <th>city_Киев</th>\n",
              "      <th>city_Краснодар</th>\n",
              "      <th>city_Минск</th>\n",
              "      <th>city_Москва</th>\n",
              "      <th>city_Новосибирск</th>\n",
              "      <th>city_Омск</th>\n",
              "      <th>city_Петербург</th>\n",
              "      <th>city_Томск</th>\n",
              "      <th>city_Хабаровск</th>\n",
              "      <th>city_Ярославль</th>\n",
              "      <th>family_members</th>\n",
              "      <th>salary</th>\n",
              "      <th>transport_preference_Автомобиль</th>\n",
              "      <th>transport_preference_Космический корабль</th>\n",
              "      <th>transport_preference_Морской транспорт</th>\n",
              "      <th>transport_preference_Поезд</th>\n",
              "      <th>transport_preference_Самолет</th>\n",
              "      <th>vacation_preference_Архитектура</th>\n",
              "      <th>vacation_preference_Ночные клубы</th>\n",
              "      <th>vacation_preference_Пляжный отдых</th>\n",
              "      <th>vacation_preference_Шоппинг</th>\n",
              "    </tr>\n",
              "  </thead>\n",
              "  <tbody>\n",
              "    <tr>\n",
              "      <th>0</th>\n",
              "      <td>37</td>\n",
              "      <td>1</td>\n",
              "      <td>0</td>\n",
              "      <td>0</td>\n",
              "      <td>0</td>\n",
              "      <td>0</td>\n",
              "      <td>0</td>\n",
              "      <td>0</td>\n",
              "      <td>0</td>\n",
              "      <td>0</td>\n",
              "      <td>0</td>\n",
              "      <td>0</td>\n",
              "      <td>1</td>\n",
              "      <td>130000</td>\n",
              "      <td>0</td>\n",
              "      <td>0</td>\n",
              "      <td>0</td>\n",
              "      <td>0</td>\n",
              "      <td>1</td>\n",
              "      <td>1</td>\n",
              "      <td>0</td>\n",
              "      <td>0</td>\n",
              "      <td>0</td>\n",
              "    </tr>\n",
              "  </tbody>\n",
              "</table>\n",
              "</div>"
            ],
            "text/plain": [
              "   age  ...  vacation_preference_Шоппинг\n",
              "0   37  ...                            0\n",
              "\n",
              "[1 rows x 23 columns]"
            ]
          },
          "metadata": {
            "tags": []
          },
          "execution_count": 70
        }
      ]
    },
    {
      "cell_type": "code",
      "metadata": {
        "colab": {
          "base_uri": "https://localhost:8080/"
        },
        "id": "cX0KimpfHIUG",
        "outputId": "6766468e-f676-4a7e-f825-f19b7c8d5e23"
      },
      "source": [
        "model.predict(example_df)"
      ],
      "execution_count": 74,
      "outputs": [
        {
          "output_type": "execute_result",
          "data": {
            "text/plain": [
              "array(['Paris'], dtype=object)"
            ]
          },
          "metadata": {
            "tags": []
          },
          "execution_count": 74
        }
      ]
    },
    {
      "cell_type": "code",
      "metadata": {
        "colab": {
          "base_uri": "https://localhost:8080/"
        },
        "id": "qZE-qzY7H0ys",
        "outputId": "d16ffccc-d053-4160-ec7d-0bf728c87df7"
      },
      "source": [
        "model.predict_proba(example_df)"
      ],
      "execution_count": 75,
      "outputs": [
        {
          "output_type": "execute_result",
          "data": {
            "text/plain": [
              "array([[0.13, 0.12, 0.73, 0.01, 0.01]])"
            ]
          },
          "metadata": {
            "tags": []
          },
          "execution_count": 75
        }
      ]
    },
    {
      "cell_type": "code",
      "metadata": {
        "colab": {
          "base_uri": "https://localhost:8080/"
        },
        "id": "x1vhuM9PH92t",
        "outputId": "197de480-7b3a-4cd7-fc89-fb17f509129d"
      },
      "source": [
        "model.classes_"
      ],
      "execution_count": 76,
      "outputs": [
        {
          "output_type": "execute_result",
          "data": {
            "text/plain": [
              "array(['London', 'New York', 'Paris', 'Sydney', 'Tokio'], dtype=object)"
            ]
          },
          "metadata": {
            "tags": []
          },
          "execution_count": 76
        }
      ]
    },
    {
      "cell_type": "code",
      "metadata": {
        "id": "98qRa-M3ICPg"
      },
      "source": [
        ""
      ],
      "execution_count": null,
      "outputs": []
    }
  ]
}